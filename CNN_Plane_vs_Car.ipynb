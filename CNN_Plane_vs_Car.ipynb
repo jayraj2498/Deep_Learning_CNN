{
 "cells": [
  {
   "cell_type": "code",
   "execution_count": 1,
   "id": "6a010db8",
   "metadata": {},
   "outputs": [],
   "source": [
    "from tensorflow.keras import backend as k"
   ]
  },
  {
   "cell_type": "code",
   "execution_count": 2,
   "id": "e81abef5",
   "metadata": {},
   "outputs": [],
   "source": [
    "img_width,img_height = 224,224"
   ]
  },
  {
   "cell_type": "code",
   "execution_count": 3,
   "id": "fa8c8138",
   "metadata": {},
   "outputs": [
    {
     "data": {
      "text/plain": [
       "'channels_last'"
      ]
     },
     "execution_count": 3,
     "metadata": {},
     "output_type": "execute_result"
    }
   ],
   "source": [
    "k.image_data_format() #mention the color at the end"
   ]
  },
  {
   "cell_type": "code",
   "execution_count": 4,
   "id": "e296bb0c",
   "metadata": {},
   "outputs": [],
   "source": [
    "#rgb channels = 3"
   ]
  },
  {
   "cell_type": "code",
   "execution_count": 5,
   "id": "c54477cc",
   "metadata": {},
   "outputs": [],
   "source": [
    "input_shape = (img_width,img_height,3) "
   ]
  },
  {
   "cell_type": "code",
   "execution_count": 6,
   "id": "182e8922",
   "metadata": {},
   "outputs": [],
   "source": [
    "from tensorflow.keras.models import Sequential"
   ]
  },
  {
   "cell_type": "code",
   "execution_count": null,
   "id": "1a95cc99",
   "metadata": {},
   "outputs": [],
   "source": []
  },
  {
   "cell_type": "code",
   "execution_count": 7,
   "id": "a6cf8e78",
   "metadata": {},
   "outputs": [],
   "source": [
    "from tensorflow.keras.layers import Conv2D,Activation,MaxPooling2D,Flatten,Dense,Dropout"
   ]
  },
  {
   "cell_type": "code",
   "execution_count": 8,
   "id": "660493ba",
   "metadata": {},
   "outputs": [],
   "source": [
    "model = Sequential() #model without neurons\n",
    "model.add(Conv2D(32,(2,2), input_shape = input_shape))\n",
    "model.add(Activation('relu'))\n",
    "model.add(MaxPooling2D(pool_size=(2,2)))\n",
    "\n",
    "model.add(Conv2D(32,(2,2)))\n",
    "model.add(Activation('relu'))\n",
    "model.add(MaxPooling2D(pool_size=(2,2)))\n",
    "\n",
    "model.add(Conv2D(64,(2,2)))\n",
    "model.add(Activation('relu'))\n",
    "model.add(MaxPooling2D(pool_size=(2,2)))\n",
    "\n",
    "model.add(Flatten())\n",
    "\n",
    "model.add(Dense(64))\n",
    "model.add(Activation('relu'))\n",
    "model.add(Dropout(0.5))\n",
    "\n",
    "\n",
    "model.add(Dense(1))\n",
    "model.add(Activation('sigmoid'))"
   ]
  },
  {
   "cell_type": "code",
   "execution_count": 9,
   "id": "9240a1d2",
   "metadata": {},
   "outputs": [],
   "source": [
    "model.compile(loss = 'binary_crossentropy', optimizer = 'adam', metrics = ['accuracy'])"
   ]
  },
  {
   "cell_type": "code",
   "execution_count": 10,
   "id": "3c11a4fb",
   "metadata": {},
   "outputs": [],
   "source": [
    "train_data_folder ='v_data/train'\n",
    "test_data_folder ='v_data/test'"
   ]
  },
  {
   "cell_type": "markdown",
   "id": "b54ae0ed",
   "metadata": {},
   "source": [
    "###  when you get data from folder we require generter "
   ]
  },
  {
   "cell_type": "code",
   "execution_count": 11,
   "id": "dfb0c318",
   "metadata": {},
   "outputs": [],
   "source": [
    "from tensorflow.keras.preprocessing.image import ImageDataGenerator"
   ]
  },
  {
   "cell_type": "code",
   "execution_count": 12,
   "id": "f995236f",
   "metadata": {},
   "outputs": [],
   "source": [
    "train_datagen = ImageDataGenerator()\n",
    "test_datagen = ImageDataGenerator()"
   ]
  },
  {
   "cell_type": "code",
   "execution_count": 13,
   "id": "855347a5",
   "metadata": {},
   "outputs": [
    {
     "name": "stdout",
     "output_type": "stream",
     "text": [
      "Found 400 images belonging to 2 classes.\n"
     ]
    }
   ],
   "source": [
    "train_datagenerator = train_datagen.flow_from_directory(\n",
    "    train_data_folder,\n",
    "    target_size = (224,224),\n",
    "    batch_size = 16,\n",
    "    class_mode='binary'\n",
    ")"
   ]
  },
  {
   "cell_type": "code",
   "execution_count": 14,
   "id": "4e673dce",
   "metadata": {},
   "outputs": [
    {
     "name": "stdout",
     "output_type": "stream",
     "text": [
      "Found 100 images belonging to 2 classes.\n"
     ]
    }
   ],
   "source": [
    "test_datagenerator = test_datagen.flow_from_directory(\n",
    "    test_data_folder,\n",
    "    target_size = (224,224),\n",
    "    batch_size = 16,\n",
    "    class_mode='binary'\n",
    ")"
   ]
  },
  {
   "cell_type": "markdown",
   "id": "988ef498",
   "metadata": {},
   "source": [
    "### we give data from generater i.e why we are using fit_generater "
   ]
  },
  {
   "cell_type": "code",
   "execution_count": 15,
   "id": "1775d518",
   "metadata": {},
   "outputs": [
    {
     "name": "stdout",
     "output_type": "stream",
     "text": [
      "Epoch 1/3\n"
     ]
    },
    {
     "name": "stderr",
     "output_type": "stream",
     "text": [
      "C:\\Users\\thewa\\AppData\\Local\\Temp\\ipykernel_12884\\3816494323.py:1: UserWarning: `Model.fit_generator` is deprecated and will be removed in a future version. Please use `Model.fit`, which supports generators.\n",
      "  model.fit_generator(\n"
     ]
    },
    {
     "name": "stdout",
     "output_type": "stream",
     "text": [
      "25/25 [==============================] - 14s 517ms/step - loss: 39.2664 - accuracy: 0.5475 - val_loss: 0.4631 - val_accuracy: 0.8125\n",
      "Epoch 2/3\n",
      "25/25 [==============================] - 13s 520ms/step - loss: 0.6628 - accuracy: 0.7175 - val_loss: 0.3727 - val_accuracy: 0.8750\n",
      "Epoch 3/3\n",
      "25/25 [==============================] - 12s 480ms/step - loss: 0.3844 - accuracy: 0.8200 - val_loss: 0.4420 - val_accuracy: 0.8438\n"
     ]
    },
    {
     "data": {
      "text/plain": [
       "<keras.callbacks.History at 0x15f0ab65be0>"
      ]
     },
     "execution_count": 15,
     "metadata": {},
     "output_type": "execute_result"
    }
   ],
   "source": [
    "model.fit_generator(\n",
    "    train_datagenerator,\n",
    "    steps_per_epoch=400 // 16,\n",
    "    epochs = 3,\n",
    "    validation_data=test_datagenerator,\n",
    "    validation_steps=100 // 16\n",
    ")"
   ]
  },
  {
   "cell_type": "markdown",
   "id": "cd43b732",
   "metadata": {},
   "source": [
    "### take image to perform predict operation "
   ]
  },
  {
   "cell_type": "code",
   "execution_count": 16,
   "id": "a3afa290",
   "metadata": {},
   "outputs": [],
   "source": [
    "from tensorflow.keras.preprocessing.image import load_img"
   ]
  },
  {
   "cell_type": "code",
   "execution_count": 96,
   "id": "64727a71",
   "metadata": {},
   "outputs": [],
   "source": [
    "image = load_img('v_data/train/PLANES/26.jpg',target_size=(224,224))"
   ]
  },
  {
   "cell_type": "code",
   "execution_count": 97,
   "id": "aaaf8557",
   "metadata": {},
   "outputs": [
    {
     "data": {
      "image/png": "[encoded data removed]",
      "text/plain": [
       "<PIL.JpegImagePlugin.JpegImageFile image mode=RGB size=224x224>"
      ]
     },
     "execution_count": 97,
     "metadata": {},
     "output_type": "execute_result"
    }
   ],
   "source": [
    "image"
   ]
  },
  {
   "cell_type": "markdown",
   "id": "8947ba7d",
   "metadata": {},
   "source": [
    "### we convert image in number form "
   ]
  },
  {
   "cell_type": "code",
   "execution_count": 98,
   "id": "06ee3f04",
   "metadata": {},
   "outputs": [],
   "source": [
    "import numpy as np"
   ]
  },
  {
   "cell_type": "code",
   "execution_count": 99,
   "id": "b0783389",
   "metadata": {},
   "outputs": [],
   "source": [
    "img = np.array(image)"
   ]
  },
  {
   "cell_type": "code",
   "execution_count": 100,
   "id": "96922ee6",
   "metadata": {},
   "outputs": [
    {
     "data": {
      "text/plain": [
       "array([[[ 78, 118, 177],\n",
       "        [ 78, 118, 177],\n",
       "        [ 78, 118, 177],\n",
       "        ...,\n",
       "        [ 52,  94, 154],\n",
       "        [ 52,  94, 154],\n",
       "        [ 52,  94, 154]],\n",
       "\n",
       "       [[ 78, 118, 177],\n",
       "        [ 78, 118, 177],\n",
       "        [ 78, 118, 177],\n",
       "        ...,\n",
       "        [ 53,  95, 155],\n",
       "        [ 52,  94, 154],\n",
       "        [ 52,  94, 154]],\n",
       "\n",
       "       [[ 79, 119, 178],\n",
       "        [ 79, 119, 178],\n",
       "        [ 79, 119, 178],\n",
       "        ...,\n",
       "        [ 53,  95, 155],\n",
       "        [ 53,  95, 155],\n",
       "        [ 52,  94, 154]],\n",
       "\n",
       "       ...,\n",
       "\n",
       "       [[ 47,  38,  21],\n",
       "        [ 59,  50,  33],\n",
       "        [ 65,  56,  39],\n",
       "        ...,\n",
       "        [ 93,  84,  69],\n",
       "        [ 89,  80,  65],\n",
       "        [ 84,  75,  60]],\n",
       "\n",
       "       [[ 60,  51,  34],\n",
       "        [ 65,  56,  39],\n",
       "        [ 60,  51,  34],\n",
       "        ...,\n",
       "        [ 91,  82,  67],\n",
       "        [ 83,  74,  59],\n",
       "        [ 80,  71,  56]],\n",
       "\n",
       "       [[ 65,  56,  39],\n",
       "        [ 64,  55,  38],\n",
       "        [ 51,  42,  25],\n",
       "        ...,\n",
       "        [ 57,  48,  33],\n",
       "        [ 36,  27,  12],\n",
       "        [ 41,  32,  17]]], dtype=uint8)"
      ]
     },
     "execution_count": 100,
     "metadata": {},
     "output_type": "execute_result"
    }
   ],
   "source": [
    "img"
   ]
  },
  {
   "cell_type": "code",
   "execution_count": 101,
   "id": "8618153c",
   "metadata": {},
   "outputs": [
    {
     "data": {
      "text/plain": [
       "(224, 224, 3)"
      ]
     },
     "execution_count": 101,
     "metadata": {},
     "output_type": "execute_result"
    }
   ],
   "source": [
    "img.shape  # our image have layer "
   ]
  },
  {
   "cell_type": "code",
   "execution_count": 102,
   "id": "15b2b162",
   "metadata": {},
   "outputs": [],
   "source": [
    "img = img.reshape(1,224, 224, 3)  # WE Need to stack whole image in 1D array form "
   ]
  },
  {
   "cell_type": "code",
   "execution_count": 103,
   "id": "a58a9a1f",
   "metadata": {},
   "outputs": [
    {
     "data": {
      "text/plain": [
       "(1, 224, 224, 3)"
      ]
     },
     "execution_count": 103,
     "metadata": {},
     "output_type": "execute_result"
    }
   ],
   "source": [
    "img.shape"
   ]
  },
  {
   "cell_type": "code",
   "execution_count": 104,
   "id": "75e680fc",
   "metadata": {},
   "outputs": [
    {
     "data": {
      "text/plain": [
       "array([[[[ 78, 118, 177],\n",
       "         [ 78, 118, 177],\n",
       "         [ 78, 118, 177],\n",
       "         ...,\n",
       "         [ 52,  94, 154],\n",
       "         [ 52,  94, 154],\n",
       "         [ 52,  94, 154]],\n",
       "\n",
       "        [[ 78, 118, 177],\n",
       "         [ 78, 118, 177],\n",
       "         [ 78, 118, 177],\n",
       "         ...,\n",
       "         [ 53,  95, 155],\n",
       "         [ 52,  94, 154],\n",
       "         [ 52,  94, 154]],\n",
       "\n",
       "        [[ 79, 119, 178],\n",
       "         [ 79, 119, 178],\n",
       "         [ 79, 119, 178],\n",
       "         ...,\n",
       "         [ 53,  95, 155],\n",
       "         [ 53,  95, 155],\n",
       "         [ 52,  94, 154]],\n",
       "\n",
       "        ...,\n",
       "\n",
       "        [[ 47,  38,  21],\n",
       "         [ 59,  50,  33],\n",
       "         [ 65,  56,  39],\n",
       "         ...,\n",
       "         [ 93,  84,  69],\n",
       "         [ 89,  80,  65],\n",
       "         [ 84,  75,  60]],\n",
       "\n",
       "        [[ 60,  51,  34],\n",
       "         [ 65,  56,  39],\n",
       "         [ 60,  51,  34],\n",
       "         ...,\n",
       "         [ 91,  82,  67],\n",
       "         [ 83,  74,  59],\n",
       "         [ 80,  71,  56]],\n",
       "\n",
       "        [[ 65,  56,  39],\n",
       "         [ 64,  55,  38],\n",
       "         [ 51,  42,  25],\n",
       "         ...,\n",
       "         [ 57,  48,  33],\n",
       "         [ 36,  27,  12],\n",
       "         [ 41,  32,  17]]]], dtype=uint8)"
      ]
     },
     "execution_count": 104,
     "metadata": {},
     "output_type": "execute_result"
    }
   ],
   "source": [
    "img"
   ]
  },
  {
   "cell_type": "code",
   "execution_count": 105,
   "id": "b326f1cf",
   "metadata": {},
   "outputs": [
    {
     "name": "stdout",
     "output_type": "stream",
     "text": [
      "1/1 [==============================] - 0s 36ms/step\n"
     ]
    }
   ],
   "source": [
    "label = model.predict(img)"
   ]
  },
  {
   "cell_type": "code",
   "execution_count": 106,
   "id": "6e3b7813",
   "metadata": {},
   "outputs": [
    {
     "data": {
      "text/plain": [
       "array([[0.9497546]], dtype=float32)"
      ]
     },
     "execution_count": 106,
     "metadata": {},
     "output_type": "execute_result"
    }
   ],
   "source": [
    "label"
   ]
  },
  {
   "cell_type": "code",
   "execution_count": 107,
   "id": "a04d336d",
   "metadata": {},
   "outputs": [
    {
     "data": {
      "text/plain": [
       "0.9497546"
      ]
     },
     "execution_count": 107,
     "metadata": {},
     "output_type": "execute_result"
    }
   ],
   "source": [
    "label[0][0]"
   ]
  },
  {
   "cell_type": "code",
   "execution_count": 109,
   "id": "6bd1a0af",
   "metadata": {},
   "outputs": [
    {
     "name": "stdout",
     "output_type": "stream",
     "text": [
      "PLANE\n"
     ]
    }
   ],
   "source": [
    "if label[0][0] >= 0.5:\n",
    "    print(\"PLANE\")\n",
    "    #PRINT(CAR)\n",
    "else:\n",
    "    #PRINT(PLANE)\n",
    "    print(\"CAR\")"
   ]
  },
  {
   "cell_type": "code",
   "execution_count": null,
   "id": "2e10f0ad",
   "metadata": {},
   "outputs": [],
   "source": []
  },
  {
   "cell_type": "code",
   "execution_count": null,
   "id": "c96abce7",
   "metadata": {},
   "outputs": [],
   "source": []
  },
  {
   "cell_type": "code",
   "execution_count": null,
   "id": "9d938659",
   "metadata": {},
   "outputs": [],
   "source": []
  }
 ],
 "metadata": {
  "kernelspec": {
   "display_name": "Python 3 (ipykernel)",
   "language": "python",
   "name": "python3"
  },
  "language_info": {
   "codemirror_mode": {
    "name": "ipython",
    "version": 3
   },
   "file_extension": ".py",
   "mimetype": "text/x-python",
   "name": "python",
   "nbconvert_exporter": "python",
   "pygments_lexer": "ipython3",
   "version": "3.9.13"
  }
 },
 "nbformat": 4,
 "nbformat_minor": 5
}
